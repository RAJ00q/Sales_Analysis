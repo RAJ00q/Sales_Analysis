{
 "cells": [
  {
   "cell_type": "code",
   "execution_count": 23,
   "id": "44276124-9d6c-46f3-b4d5-42a6ad681732",
   "metadata": {},
   "outputs": [],
   "source": [
    "import numpy as np\n",
    "import pandas as pd"
   ]
  },
  {
   "cell_type": "code",
   "execution_count": 24,
   "id": "2df4f966-0a17-467a-9a16-aaf10c7ce405",
   "metadata": {},
   "outputs": [],
   "source": [
    "df=  pd.read_csv(\"D:\\pandas.excel\\sales_data.csv\")"
   ]
  },
  {
   "cell_type": "code",
   "execution_count": 25,
   "id": "8218a7e4-b87b-46d4-b346-b01e2c38ad84",
   "metadata": {},
   "outputs": [
    {
     "data": {
      "text/html": [
       "<div>\n",
       "<style scoped>\n",
       "    .dataframe tbody tr th:only-of-type {\n",
       "        vertical-align: middle;\n",
       "    }\n",
       "\n",
       "    .dataframe tbody tr th {\n",
       "        vertical-align: top;\n",
       "    }\n",
       "\n",
       "    .dataframe thead th {\n",
       "        text-align: right;\n",
       "    }\n",
       "</style>\n",
       "<table border=\"1\" class=\"dataframe\">\n",
       "  <thead>\n",
       "    <tr style=\"text-align: right;\">\n",
       "      <th></th>\n",
       "      <th>Unnamed: 0</th>\n",
       "      <th>ProductID</th>\n",
       "      <th>QuantitySold</th>\n",
       "      <th>Price</th>\n",
       "      <th>Discount</th>\n",
       "      <th>Category</th>\n",
       "      <th>Supplier</th>\n",
       "      <th>Date</th>\n",
       "      <th>CustomerID</th>\n",
       "      <th>Country</th>\n",
       "      <th>Profit</th>\n",
       "    </tr>\n",
       "  </thead>\n",
       "  <tbody>\n",
       "    <tr>\n",
       "      <th>0</th>\n",
       "      <td>0</td>\n",
       "      <td>C</td>\n",
       "      <td>8</td>\n",
       "      <td>75.539471</td>\n",
       "      <td>0.064576</td>\n",
       "      <td>Toys</td>\n",
       "      <td>Supplier1</td>\n",
       "      <td>2022-01-01</td>\n",
       "      <td>1148</td>\n",
       "      <td>USA</td>\n",
       "      <td>20.835021</td>\n",
       "    </tr>\n",
       "    <tr>\n",
       "      <th>1</th>\n",
       "      <td>1</td>\n",
       "      <td>A</td>\n",
       "      <td>8</td>\n",
       "      <td>43.100482</td>\n",
       "      <td>0.142251</td>\n",
       "      <td>Toys</td>\n",
       "      <td>Supplier3</td>\n",
       "      <td>2022-01-02</td>\n",
       "      <td>1079</td>\n",
       "      <td>USA</td>\n",
       "      <td>11.003640</td>\n",
       "    </tr>\n",
       "    <tr>\n",
       "      <th>2</th>\n",
       "      <td>2</td>\n",
       "      <td>C</td>\n",
       "      <td>3</td>\n",
       "      <td>66.907525</td>\n",
       "      <td>0.198508</td>\n",
       "      <td>Clothing</td>\n",
       "      <td>Supplier2</td>\n",
       "      <td>2022-01-03</td>\n",
       "      <td>1885</td>\n",
       "      <td>Canada</td>\n",
       "      <td>6.896583</td>\n",
       "    </tr>\n",
       "    <tr>\n",
       "      <th>3</th>\n",
       "      <td>3</td>\n",
       "      <td>C</td>\n",
       "      <td>1</td>\n",
       "      <td>67.017674</td>\n",
       "      <td>0.071013</td>\n",
       "      <td>Home</td>\n",
       "      <td>Supplier3</td>\n",
       "      <td>2022-01-04</td>\n",
       "      <td>1212</td>\n",
       "      <td>USA</td>\n",
       "      <td>8.221993</td>\n",
       "    </tr>\n",
       "    <tr>\n",
       "      <th>4</th>\n",
       "      <td>4</td>\n",
       "      <td>A</td>\n",
       "      <td>8</td>\n",
       "      <td>58.219722</td>\n",
       "      <td>0.127749</td>\n",
       "      <td>Toys</td>\n",
       "      <td>Supplier3</td>\n",
       "      <td>2022-01-05</td>\n",
       "      <td>1202</td>\n",
       "      <td>UK</td>\n",
       "      <td>8.201146</td>\n",
       "    </tr>\n",
       "  </tbody>\n",
       "</table>\n",
       "</div>"
      ],
      "text/plain": [
       "   Unnamed: 0 ProductID  QuantitySold      Price  Discount  Category  \\\n",
       "0           0         C             8  75.539471  0.064576      Toys   \n",
       "1           1         A             8  43.100482  0.142251      Toys   \n",
       "2           2         C             3  66.907525  0.198508  Clothing   \n",
       "3           3         C             1  67.017674  0.071013      Home   \n",
       "4           4         A             8  58.219722  0.127749      Toys   \n",
       "\n",
       "    Supplier        Date  CustomerID Country     Profit  \n",
       "0  Supplier1  2022-01-01        1148     USA  20.835021  \n",
       "1  Supplier3  2022-01-02        1079     USA  11.003640  \n",
       "2  Supplier2  2022-01-03        1885  Canada   6.896583  \n",
       "3  Supplier3  2022-01-04        1212     USA   8.221993  \n",
       "4  Supplier3  2022-01-05        1202      UK   8.201146  "
      ]
     },
     "execution_count": 25,
     "metadata": {},
     "output_type": "execute_result"
    }
   ],
   "source": [
    "df.head()\n"
   ]
  },
  {
   "cell_type": "code",
   "execution_count": 26,
   "id": "70062e95-392b-48f5-84b7-a48d156f04c9",
   "metadata": {},
   "outputs": [
    {
     "name": "stdout",
     "output_type": "stream",
     "text": [
      "<class 'pandas.core.frame.DataFrame'>\n",
      "RangeIndex: 100 entries, 0 to 99\n",
      "Data columns (total 11 columns):\n",
      " #   Column        Non-Null Count  Dtype  \n",
      "---  ------        --------------  -----  \n",
      " 0   Unnamed: 0    100 non-null    int64  \n",
      " 1   ProductID     100 non-null    object \n",
      " 2   QuantitySold  100 non-null    int64  \n",
      " 3   Price         100 non-null    float64\n",
      " 4   Discount      100 non-null    float64\n",
      " 5   Category      100 non-null    object \n",
      " 6   Supplier      100 non-null    object \n",
      " 7   Date          100 non-null    object \n",
      " 8   CustomerID    100 non-null    int64  \n",
      " 9   Country       100 non-null    object \n",
      " 10  Profit        100 non-null    float64\n",
      "dtypes: float64(3), int64(3), object(5)\n",
      "memory usage: 8.7+ KB\n"
     ]
    }
   ],
   "source": [
    "df.info()"
   ]
  },
  {
   "cell_type": "code",
   "execution_count": 27,
   "id": "a9b3a1bd-7bec-4733-a083-7c828ac94cfc",
   "metadata": {},
   "outputs": [],
   "source": [
    "# calcualate total revuence for each product and overall\n",
    "# calculate the average profit margin for each product\n",
    "# identity the top - selling and categories\n"
   ]
  },
  {
   "cell_type": "code",
   "execution_count": 28,
   "id": "673dfef8-4b7b-468d-aed8-55183eb8769f",
   "metadata": {},
   "outputs": [
    {
     "name": "stdout",
     "output_type": "stream",
     "text": [
      "Category\n",
      "Electronics    35\n",
      "Toys           24\n",
      "Home           22\n",
      "Clothing       19\n",
      "Name: count, dtype: int64\n"
     ]
    }
   ],
   "source": [
    "df=df.counts=df['Category'].value_counts()\n",
    "print(df)"
   ]
  },
  {
   "cell_type": "code",
   "execution_count": 29,
   "id": "260274a8-09f2-4bd1-9865-93591d3278dd",
   "metadata": {
    "scrolled": true
   },
   "outputs": [
    {
     "name": "stdout",
     "output_type": "stream",
     "text": [
      "Total Revenue for Each Product:\n",
      "ProductID\n",
      "A    8540.940987\n",
      "B    9239.251238\n",
      "C    9935.431533\n",
      "Name: Revenue, dtype: float64\n"
     ]
    }
   ],
   "source": [
    "\n",
    "\n",
    "# Assuming you have columns named 'QuantitySold' and 'Price' in your dataset\n",
    "# Create a new column 'Revenue' by multiplying QuantitySold and Price\n",
    "df['Revenue'] = df['QuantitySold'] * df['Price']\n",
    "\n",
    "# Calculate total revenue for each product\n",
    "product_total_revenue = df.groupby('ProductID')['Revenue'].sum()\n",
    "\n",
    "# Display the results\n",
    "print(\"Total Revenue for Each Product:\")\n",
    "print(product_total_revenue)\n"
   ]
  },
  {
   "cell_type": "code",
   "execution_count": 30,
   "id": "6734a56c-f42f-4613-8f44-2e0ae6c6bca5",
   "metadata": {},
   "outputs": [
    {
     "name": "stdout",
     "output_type": "stream",
     "text": [
      "Average Profit Margin for Each Product:\n",
      "ProductID\n",
      "A    0.119770\n",
      "B    0.148286\n",
      "C    0.132736\n",
      "Name: ProfitMargin, dtype: float64\n"
     ]
    }
   ],
   "source": [
    "# Create a new column 'ProfitMargin' by dividing Profit by Revenue\n",
    "df['ProfitMargin'] = df['Profit'] / df['Revenue']\n",
    "\n",
    "# Calculate average profit margin for each product\n",
    "product_avg_profit_margin = df.groupby('ProductID')['ProfitMargin'].mean()\n",
    "\n",
    "# Display the results\n",
    "print(\"Average Profit Margin for Each Product:\")\n",
    "print(product_avg_profit_margin)"
   ]
  },
  {
   "cell_type": "code",
   "execution_count": 31,
   "id": "efae988d-354d-4cdf-9733-f83f631cfba5",
   "metadata": {},
   "outputs": [
    {
     "name": "stdout",
     "output_type": "stream",
     "text": [
      "Top-Selling Products:\n",
      "ProductID\n",
      "B    172\n",
      "C    164\n",
      "A    154\n",
      "Name: QuantitySold, dtype: int64\n",
      "\n",
      "Top-Selling Categories:\n",
      "Category\n",
      "Electronics    160\n",
      "Toys           148\n",
      "Home           111\n",
      "Clothing        71\n",
      "Name: QuantitySold, dtype: int64\n"
     ]
    }
   ],
   "source": [
    "# Calculate total quantity sold for each product\n",
    "product_total_quantity_sold = df.groupby('ProductID')['QuantitySold'].sum()\n",
    "\n",
    "# Identify the top-selling products\n",
    "top_selling_products = product_total_quantity_sold.sort_values(ascending=False).head(5)  # Adjust the number as needed\n",
    "\n",
    "# Calculate total quantity sold for each category\n",
    "category_total_quantity_sold = df.groupby('Category')['QuantitySold'].sum()\n",
    "\n",
    "# Identify the top-selling categories\n",
    "top_selling_categories = category_total_quantity_sold.sort_values(ascending=False).head(5)  # Adjust the number as needed\n",
    "\n",
    "# Display the results\n",
    "print(\"Top-Selling Products:\")\n",
    "print(top_selling_products)\n",
    "\n",
    "print(\"\\nTop-Selling Categories:\")\n",
    "print(top_selling_categories)"
   ]
  },
  {
   "cell_type": "code",
   "execution_count": null,
   "id": "48900eda-ed0a-47a7-8938-cbd08c6824be",
   "metadata": {},
   "outputs": [],
   "source": []
  }
 ],
 "metadata": {
  "kernelspec": {
   "display_name": "Python 3 (ipykernel)",
   "language": "python",
   "name": "python3"
  },
  "language_info": {
   "codemirror_mode": {
    "name": "ipython",
    "version": 3
   },
   "file_extension": ".py",
   "mimetype": "text/x-python",
   "name": "python",
   "nbconvert_exporter": "python",
   "pygments_lexer": "ipython3",
   "version": "3.11.4"
  }
 },
 "nbformat": 4,
 "nbformat_minor": 5
}
